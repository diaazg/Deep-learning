{
 "cells": [
  {
   "cell_type": "markdown",
   "id": "0ecf6934",
   "metadata": {},
   "source": [
    "# Transfer learning 2"
   ]
  },
  {
   "cell_type": "code",
   "execution_count": 1,
   "id": "27f659e0",
   "metadata": {},
   "outputs": [],
   "source": [
    "import numpy as np\n",
    "\n",
    "import torch\n",
    "import torch.nn as nn\n",
    "import torch.nn.functional as F\n",
    "from torch.utils.data  import DataLoader,TensorDataset\n",
    "import copy \n",
    "from sklearn.model_selection import train_test_split\n",
    "import torchvision\n",
    "import torchvision.transforms as T\n",
    "\n",
    "import matplotlib.pyplot as plt\n",
    "import pandas as pd"
   ]
  },
  {
   "cell_type": "code",
   "execution_count": 2,
   "id": "8727178f",
   "metadata": {},
   "outputs": [],
   "source": [
    "transform = T.Compose([\n",
    "    T.ToTensor(),\n",
    "    T.Normalize(mean=[.485,.456,.406],std=[.229,.224,.225])\n",
    "])"
   ]
  },
  {
   "cell_type": "code",
   "execution_count": 3,
   "id": "c853eea2",
   "metadata": {},
   "outputs": [
    {
     "name": "stderr",
     "output_type": "stream",
     "text": [
      "100%|██████████| 2.64G/2.64G [15:04<00:00, 2.92MB/s]  \n"
     ]
    }
   ],
   "source": [
    "trainset = torchvision.datasets.STL10(root='../data',download=True,split='train',transform=transform)\n",
    "testset = torchvision.datasets.STL10(root='../data',download=True,split='test',transform=transform)"
   ]
  },
  {
   "cell_type": "code",
   "execution_count": 4,
   "id": "6a1f80fd",
   "metadata": {},
   "outputs": [],
   "source": [
    "batch_size = 32\n",
    "train_loader = DataLoader(trainset,batch_size=batch_size,shuffle=True,drop_last=True)\n",
    "test_loader = DataLoader(testset,batch_size = 256)"
   ]
  },
  {
   "cell_type": "code",
   "execution_count": 7,
   "id": "8b5482e4",
   "metadata": {},
   "outputs": [
    {
     "data": {
      "text/plain": [
       "((5000, 3, 96, 96), (8000, 3, 96, 96))"
      ]
     },
     "execution_count": 7,
     "metadata": {},
     "output_type": "execute_result"
    }
   ],
   "source": [
    "trainset.data.shape , testset.data.shape"
   ]
  },
  {
   "cell_type": "markdown",
   "id": "dfe55955",
   "metadata": {},
   "source": [
    "# Import and inspect resnet-18 model"
   ]
  },
  {
   "cell_type": "code",
   "execution_count": 8,
   "id": "9acf3697",
   "metadata": {},
   "outputs": [
    {
     "name": "stderr",
     "output_type": "stream",
     "text": [
      "/opt/homebrew/Caskroom/miniforge/base/envs/ia/lib/python3.13/site-packages/torchvision/models/_utils.py:208: UserWarning: The parameter 'pretrained' is deprecated since 0.13 and may be removed in the future, please use 'weights' instead.\n",
      "  warnings.warn(\n",
      "/opt/homebrew/Caskroom/miniforge/base/envs/ia/lib/python3.13/site-packages/torchvision/models/_utils.py:223: UserWarning: Arguments other than a weight enum or `None` for 'weights' are deprecated since 0.13 and may be removed in the future. The current behavior is equivalent to passing `weights=ResNet18_Weights.IMAGENET1K_V1`. You can also use `weights=ResNet18_Weights.DEFAULT` to get the most up-to-date weights.\n",
      "  warnings.warn(msg)\n"
     ]
    },
    {
     "name": "stdout",
     "output_type": "stream",
     "text": [
      "Downloading: \"https://download.pytorch.org/models/resnet18-f37072fd.pth\" to /Users/mac/.cache/torch/hub/checkpoints/resnet18-f37072fd.pth\n"
     ]
    },
    {
     "name": "stderr",
     "output_type": "stream",
     "text": [
      "100%|██████████| 44.7M/44.7M [00:08<00:00, 5.49MB/s]\n"
     ]
    }
   ],
   "source": [
    "resent = torchvision.models.resnet18(pretrained=True)"
   ]
  },
  {
   "cell_type": "code",
   "execution_count": 9,
   "id": "d3e43534",
   "metadata": {},
   "outputs": [
    {
     "data": {
      "text/plain": [
       "ResNet(\n",
       "  (conv1): Conv2d(3, 64, kernel_size=(7, 7), stride=(2, 2), padding=(3, 3), bias=False)\n",
       "  (bn1): BatchNorm2d(64, eps=1e-05, momentum=0.1, affine=True, track_running_stats=True)\n",
       "  (relu): ReLU(inplace=True)\n",
       "  (maxpool): MaxPool2d(kernel_size=3, stride=2, padding=1, dilation=1, ceil_mode=False)\n",
       "  (layer1): Sequential(\n",
       "    (0): BasicBlock(\n",
       "      (conv1): Conv2d(64, 64, kernel_size=(3, 3), stride=(1, 1), padding=(1, 1), bias=False)\n",
       "      (bn1): BatchNorm2d(64, eps=1e-05, momentum=0.1, affine=True, track_running_stats=True)\n",
       "      (relu): ReLU(inplace=True)\n",
       "      (conv2): Conv2d(64, 64, kernel_size=(3, 3), stride=(1, 1), padding=(1, 1), bias=False)\n",
       "      (bn2): BatchNorm2d(64, eps=1e-05, momentum=0.1, affine=True, track_running_stats=True)\n",
       "    )\n",
       "    (1): BasicBlock(\n",
       "      (conv1): Conv2d(64, 64, kernel_size=(3, 3), stride=(1, 1), padding=(1, 1), bias=False)\n",
       "      (bn1): BatchNorm2d(64, eps=1e-05, momentum=0.1, affine=True, track_running_stats=True)\n",
       "      (relu): ReLU(inplace=True)\n",
       "      (conv2): Conv2d(64, 64, kernel_size=(3, 3), stride=(1, 1), padding=(1, 1), bias=False)\n",
       "      (bn2): BatchNorm2d(64, eps=1e-05, momentum=0.1, affine=True, track_running_stats=True)\n",
       "    )\n",
       "  )\n",
       "  (layer2): Sequential(\n",
       "    (0): BasicBlock(\n",
       "      (conv1): Conv2d(64, 128, kernel_size=(3, 3), stride=(2, 2), padding=(1, 1), bias=False)\n",
       "      (bn1): BatchNorm2d(128, eps=1e-05, momentum=0.1, affine=True, track_running_stats=True)\n",
       "      (relu): ReLU(inplace=True)\n",
       "      (conv2): Conv2d(128, 128, kernel_size=(3, 3), stride=(1, 1), padding=(1, 1), bias=False)\n",
       "      (bn2): BatchNorm2d(128, eps=1e-05, momentum=0.1, affine=True, track_running_stats=True)\n",
       "      (downsample): Sequential(\n",
       "        (0): Conv2d(64, 128, kernel_size=(1, 1), stride=(2, 2), bias=False)\n",
       "        (1): BatchNorm2d(128, eps=1e-05, momentum=0.1, affine=True, track_running_stats=True)\n",
       "      )\n",
       "    )\n",
       "    (1): BasicBlock(\n",
       "      (conv1): Conv2d(128, 128, kernel_size=(3, 3), stride=(1, 1), padding=(1, 1), bias=False)\n",
       "      (bn1): BatchNorm2d(128, eps=1e-05, momentum=0.1, affine=True, track_running_stats=True)\n",
       "      (relu): ReLU(inplace=True)\n",
       "      (conv2): Conv2d(128, 128, kernel_size=(3, 3), stride=(1, 1), padding=(1, 1), bias=False)\n",
       "      (bn2): BatchNorm2d(128, eps=1e-05, momentum=0.1, affine=True, track_running_stats=True)\n",
       "    )\n",
       "  )\n",
       "  (layer3): Sequential(\n",
       "    (0): BasicBlock(\n",
       "      (conv1): Conv2d(128, 256, kernel_size=(3, 3), stride=(2, 2), padding=(1, 1), bias=False)\n",
       "      (bn1): BatchNorm2d(256, eps=1e-05, momentum=0.1, affine=True, track_running_stats=True)\n",
       "      (relu): ReLU(inplace=True)\n",
       "      (conv2): Conv2d(256, 256, kernel_size=(3, 3), stride=(1, 1), padding=(1, 1), bias=False)\n",
       "      (bn2): BatchNorm2d(256, eps=1e-05, momentum=0.1, affine=True, track_running_stats=True)\n",
       "      (downsample): Sequential(\n",
       "        (0): Conv2d(128, 256, kernel_size=(1, 1), stride=(2, 2), bias=False)\n",
       "        (1): BatchNorm2d(256, eps=1e-05, momentum=0.1, affine=True, track_running_stats=True)\n",
       "      )\n",
       "    )\n",
       "    (1): BasicBlock(\n",
       "      (conv1): Conv2d(256, 256, kernel_size=(3, 3), stride=(1, 1), padding=(1, 1), bias=False)\n",
       "      (bn1): BatchNorm2d(256, eps=1e-05, momentum=0.1, affine=True, track_running_stats=True)\n",
       "      (relu): ReLU(inplace=True)\n",
       "      (conv2): Conv2d(256, 256, kernel_size=(3, 3), stride=(1, 1), padding=(1, 1), bias=False)\n",
       "      (bn2): BatchNorm2d(256, eps=1e-05, momentum=0.1, affine=True, track_running_stats=True)\n",
       "    )\n",
       "  )\n",
       "  (layer4): Sequential(\n",
       "    (0): BasicBlock(\n",
       "      (conv1): Conv2d(256, 512, kernel_size=(3, 3), stride=(2, 2), padding=(1, 1), bias=False)\n",
       "      (bn1): BatchNorm2d(512, eps=1e-05, momentum=0.1, affine=True, track_running_stats=True)\n",
       "      (relu): ReLU(inplace=True)\n",
       "      (conv2): Conv2d(512, 512, kernel_size=(3, 3), stride=(1, 1), padding=(1, 1), bias=False)\n",
       "      (bn2): BatchNorm2d(512, eps=1e-05, momentum=0.1, affine=True, track_running_stats=True)\n",
       "      (downsample): Sequential(\n",
       "        (0): Conv2d(256, 512, kernel_size=(1, 1), stride=(2, 2), bias=False)\n",
       "        (1): BatchNorm2d(512, eps=1e-05, momentum=0.1, affine=True, track_running_stats=True)\n",
       "      )\n",
       "    )\n",
       "    (1): BasicBlock(\n",
       "      (conv1): Conv2d(512, 512, kernel_size=(3, 3), stride=(1, 1), padding=(1, 1), bias=False)\n",
       "      (bn1): BatchNorm2d(512, eps=1e-05, momentum=0.1, affine=True, track_running_stats=True)\n",
       "      (relu): ReLU(inplace=True)\n",
       "      (conv2): Conv2d(512, 512, kernel_size=(3, 3), stride=(1, 1), padding=(1, 1), bias=False)\n",
       "      (bn2): BatchNorm2d(512, eps=1e-05, momentum=0.1, affine=True, track_running_stats=True)\n",
       "    )\n",
       "  )\n",
       "  (avgpool): AdaptiveAvgPool2d(output_size=(1, 1))\n",
       "  (fc): Linear(in_features=512, out_features=1000, bias=True)\n",
       ")"
      ]
     },
     "execution_count": 9,
     "metadata": {},
     "output_type": "execute_result"
    }
   ],
   "source": [
    "resent"
   ]
  },
  {
   "cell_type": "code",
   "execution_count": 10,
   "id": "5274f75e",
   "metadata": {},
   "outputs": [
    {
     "data": {
      "text/plain": [
       "device(type='mps')"
      ]
     },
     "execution_count": 10,
     "metadata": {},
     "output_type": "execute_result"
    }
   ],
   "source": [
    "device = torch.device(\"mps\" if torch.backends.mps.is_available() else \"cpu\")\n",
    "device"
   ]
  },
  {
   "cell_type": "code",
   "execution_count": 13,
   "id": "c806a209",
   "metadata": {},
   "outputs": [
    {
     "name": "stdout",
     "output_type": "stream",
     "text": [
      "----------------------------------------------------------------\n",
      "        Layer (type)               Output Shape         Param #\n",
      "================================================================\n",
      "            Conv2d-1           [-1, 64, 48, 48]           9,408\n",
      "       BatchNorm2d-2           [-1, 64, 48, 48]             128\n",
      "              ReLU-3           [-1, 64, 48, 48]               0\n",
      "         MaxPool2d-4           [-1, 64, 24, 24]               0\n",
      "            Conv2d-5           [-1, 64, 24, 24]          36,864\n",
      "       BatchNorm2d-6           [-1, 64, 24, 24]             128\n",
      "              ReLU-7           [-1, 64, 24, 24]               0\n",
      "            Conv2d-8           [-1, 64, 24, 24]          36,864\n",
      "       BatchNorm2d-9           [-1, 64, 24, 24]             128\n",
      "             ReLU-10           [-1, 64, 24, 24]               0\n",
      "       BasicBlock-11           [-1, 64, 24, 24]               0\n",
      "           Conv2d-12           [-1, 64, 24, 24]          36,864\n",
      "      BatchNorm2d-13           [-1, 64, 24, 24]             128\n",
      "             ReLU-14           [-1, 64, 24, 24]               0\n",
      "           Conv2d-15           [-1, 64, 24, 24]          36,864\n",
      "      BatchNorm2d-16           [-1, 64, 24, 24]             128\n",
      "             ReLU-17           [-1, 64, 24, 24]               0\n",
      "       BasicBlock-18           [-1, 64, 24, 24]               0\n",
      "           Conv2d-19          [-1, 128, 12, 12]          73,728\n",
      "      BatchNorm2d-20          [-1, 128, 12, 12]             256\n",
      "             ReLU-21          [-1, 128, 12, 12]               0\n",
      "           Conv2d-22          [-1, 128, 12, 12]         147,456\n",
      "      BatchNorm2d-23          [-1, 128, 12, 12]             256\n",
      "           Conv2d-24          [-1, 128, 12, 12]           8,192\n",
      "      BatchNorm2d-25          [-1, 128, 12, 12]             256\n",
      "             ReLU-26          [-1, 128, 12, 12]               0\n",
      "       BasicBlock-27          [-1, 128, 12, 12]               0\n",
      "           Conv2d-28          [-1, 128, 12, 12]         147,456\n",
      "      BatchNorm2d-29          [-1, 128, 12, 12]             256\n",
      "             ReLU-30          [-1, 128, 12, 12]               0\n",
      "           Conv2d-31          [-1, 128, 12, 12]         147,456\n",
      "      BatchNorm2d-32          [-1, 128, 12, 12]             256\n",
      "             ReLU-33          [-1, 128, 12, 12]               0\n",
      "       BasicBlock-34          [-1, 128, 12, 12]               0\n",
      "           Conv2d-35            [-1, 256, 6, 6]         294,912\n",
      "      BatchNorm2d-36            [-1, 256, 6, 6]             512\n",
      "             ReLU-37            [-1, 256, 6, 6]               0\n",
      "           Conv2d-38            [-1, 256, 6, 6]         589,824\n",
      "      BatchNorm2d-39            [-1, 256, 6, 6]             512\n",
      "           Conv2d-40            [-1, 256, 6, 6]          32,768\n",
      "      BatchNorm2d-41            [-1, 256, 6, 6]             512\n",
      "             ReLU-42            [-1, 256, 6, 6]               0\n",
      "       BasicBlock-43            [-1, 256, 6, 6]               0\n",
      "           Conv2d-44            [-1, 256, 6, 6]         589,824\n",
      "      BatchNorm2d-45            [-1, 256, 6, 6]             512\n",
      "             ReLU-46            [-1, 256, 6, 6]               0\n",
      "           Conv2d-47            [-1, 256, 6, 6]         589,824\n",
      "      BatchNorm2d-48            [-1, 256, 6, 6]             512\n",
      "             ReLU-49            [-1, 256, 6, 6]               0\n",
      "       BasicBlock-50            [-1, 256, 6, 6]               0\n",
      "           Conv2d-51            [-1, 512, 3, 3]       1,179,648\n",
      "      BatchNorm2d-52            [-1, 512, 3, 3]           1,024\n",
      "             ReLU-53            [-1, 512, 3, 3]               0\n",
      "           Conv2d-54            [-1, 512, 3, 3]       2,359,296\n",
      "      BatchNorm2d-55            [-1, 512, 3, 3]           1,024\n",
      "           Conv2d-56            [-1, 512, 3, 3]         131,072\n",
      "      BatchNorm2d-57            [-1, 512, 3, 3]           1,024\n",
      "             ReLU-58            [-1, 512, 3, 3]               0\n",
      "       BasicBlock-59            [-1, 512, 3, 3]               0\n",
      "           Conv2d-60            [-1, 512, 3, 3]       2,359,296\n",
      "      BatchNorm2d-61            [-1, 512, 3, 3]           1,024\n",
      "             ReLU-62            [-1, 512, 3, 3]               0\n",
      "           Conv2d-63            [-1, 512, 3, 3]       2,359,296\n",
      "      BatchNorm2d-64            [-1, 512, 3, 3]           1,024\n",
      "             ReLU-65            [-1, 512, 3, 3]               0\n",
      "       BasicBlock-66            [-1, 512, 3, 3]               0\n",
      "AdaptiveAvgPool2d-67            [-1, 512, 1, 1]               0\n",
      "           Linear-68                 [-1, 1000]         513,000\n",
      "================================================================\n",
      "Total params: 11,689,512\n",
      "Trainable params: 11,689,512\n",
      "Non-trainable params: 0\n",
      "----------------------------------------------------------------\n",
      "Input size (MB): 0.11\n",
      "Forward/backward pass size (MB): 11.54\n",
      "Params size (MB): 44.59\n",
      "Estimated Total Size (MB): 56.24\n",
      "----------------------------------------------------------------\n"
     ]
    }
   ],
   "source": [
    "from torchsummary import summary\n",
    "summary(resent.to(\"cpu\"),(3,96,96))"
   ]
  },
  {
   "cell_type": "code",
   "execution_count": 14,
   "id": "b66d7845",
   "metadata": {},
   "outputs": [],
   "source": [
    "# freez all the layers\n",
    "for p in resent.parameters():\n",
    "    p.requires_grad = False"
   ]
  },
  {
   "cell_type": "code",
   "execution_count": 15,
   "id": "8c4bdc75",
   "metadata": {},
   "outputs": [
    {
     "data": {
      "text/plain": [
       "ResNet(\n",
       "  (conv1): Conv2d(3, 64, kernel_size=(7, 7), stride=(2, 2), padding=(3, 3), bias=False)\n",
       "  (bn1): BatchNorm2d(64, eps=1e-05, momentum=0.1, affine=True, track_running_stats=True)\n",
       "  (relu): ReLU(inplace=True)\n",
       "  (maxpool): MaxPool2d(kernel_size=3, stride=2, padding=1, dilation=1, ceil_mode=False)\n",
       "  (layer1): Sequential(\n",
       "    (0): BasicBlock(\n",
       "      (conv1): Conv2d(64, 64, kernel_size=(3, 3), stride=(1, 1), padding=(1, 1), bias=False)\n",
       "      (bn1): BatchNorm2d(64, eps=1e-05, momentum=0.1, affine=True, track_running_stats=True)\n",
       "      (relu): ReLU(inplace=True)\n",
       "      (conv2): Conv2d(64, 64, kernel_size=(3, 3), stride=(1, 1), padding=(1, 1), bias=False)\n",
       "      (bn2): BatchNorm2d(64, eps=1e-05, momentum=0.1, affine=True, track_running_stats=True)\n",
       "    )\n",
       "    (1): BasicBlock(\n",
       "      (conv1): Conv2d(64, 64, kernel_size=(3, 3), stride=(1, 1), padding=(1, 1), bias=False)\n",
       "      (bn1): BatchNorm2d(64, eps=1e-05, momentum=0.1, affine=True, track_running_stats=True)\n",
       "      (relu): ReLU(inplace=True)\n",
       "      (conv2): Conv2d(64, 64, kernel_size=(3, 3), stride=(1, 1), padding=(1, 1), bias=False)\n",
       "      (bn2): BatchNorm2d(64, eps=1e-05, momentum=0.1, affine=True, track_running_stats=True)\n",
       "    )\n",
       "  )\n",
       "  (layer2): Sequential(\n",
       "    (0): BasicBlock(\n",
       "      (conv1): Conv2d(64, 128, kernel_size=(3, 3), stride=(2, 2), padding=(1, 1), bias=False)\n",
       "      (bn1): BatchNorm2d(128, eps=1e-05, momentum=0.1, affine=True, track_running_stats=True)\n",
       "      (relu): ReLU(inplace=True)\n",
       "      (conv2): Conv2d(128, 128, kernel_size=(3, 3), stride=(1, 1), padding=(1, 1), bias=False)\n",
       "      (bn2): BatchNorm2d(128, eps=1e-05, momentum=0.1, affine=True, track_running_stats=True)\n",
       "      (downsample): Sequential(\n",
       "        (0): Conv2d(64, 128, kernel_size=(1, 1), stride=(2, 2), bias=False)\n",
       "        (1): BatchNorm2d(128, eps=1e-05, momentum=0.1, affine=True, track_running_stats=True)\n",
       "      )\n",
       "    )\n",
       "    (1): BasicBlock(\n",
       "      (conv1): Conv2d(128, 128, kernel_size=(3, 3), stride=(1, 1), padding=(1, 1), bias=False)\n",
       "      (bn1): BatchNorm2d(128, eps=1e-05, momentum=0.1, affine=True, track_running_stats=True)\n",
       "      (relu): ReLU(inplace=True)\n",
       "      (conv2): Conv2d(128, 128, kernel_size=(3, 3), stride=(1, 1), padding=(1, 1), bias=False)\n",
       "      (bn2): BatchNorm2d(128, eps=1e-05, momentum=0.1, affine=True, track_running_stats=True)\n",
       "    )\n",
       "  )\n",
       "  (layer3): Sequential(\n",
       "    (0): BasicBlock(\n",
       "      (conv1): Conv2d(128, 256, kernel_size=(3, 3), stride=(2, 2), padding=(1, 1), bias=False)\n",
       "      (bn1): BatchNorm2d(256, eps=1e-05, momentum=0.1, affine=True, track_running_stats=True)\n",
       "      (relu): ReLU(inplace=True)\n",
       "      (conv2): Conv2d(256, 256, kernel_size=(3, 3), stride=(1, 1), padding=(1, 1), bias=False)\n",
       "      (bn2): BatchNorm2d(256, eps=1e-05, momentum=0.1, affine=True, track_running_stats=True)\n",
       "      (downsample): Sequential(\n",
       "        (0): Conv2d(128, 256, kernel_size=(1, 1), stride=(2, 2), bias=False)\n",
       "        (1): BatchNorm2d(256, eps=1e-05, momentum=0.1, affine=True, track_running_stats=True)\n",
       "      )\n",
       "    )\n",
       "    (1): BasicBlock(\n",
       "      (conv1): Conv2d(256, 256, kernel_size=(3, 3), stride=(1, 1), padding=(1, 1), bias=False)\n",
       "      (bn1): BatchNorm2d(256, eps=1e-05, momentum=0.1, affine=True, track_running_stats=True)\n",
       "      (relu): ReLU(inplace=True)\n",
       "      (conv2): Conv2d(256, 256, kernel_size=(3, 3), stride=(1, 1), padding=(1, 1), bias=False)\n",
       "      (bn2): BatchNorm2d(256, eps=1e-05, momentum=0.1, affine=True, track_running_stats=True)\n",
       "    )\n",
       "  )\n",
       "  (layer4): Sequential(\n",
       "    (0): BasicBlock(\n",
       "      (conv1): Conv2d(256, 512, kernel_size=(3, 3), stride=(2, 2), padding=(1, 1), bias=False)\n",
       "      (bn1): BatchNorm2d(512, eps=1e-05, momentum=0.1, affine=True, track_running_stats=True)\n",
       "      (relu): ReLU(inplace=True)\n",
       "      (conv2): Conv2d(512, 512, kernel_size=(3, 3), stride=(1, 1), padding=(1, 1), bias=False)\n",
       "      (bn2): BatchNorm2d(512, eps=1e-05, momentum=0.1, affine=True, track_running_stats=True)\n",
       "      (downsample): Sequential(\n",
       "        (0): Conv2d(256, 512, kernel_size=(1, 1), stride=(2, 2), bias=False)\n",
       "        (1): BatchNorm2d(512, eps=1e-05, momentum=0.1, affine=True, track_running_stats=True)\n",
       "      )\n",
       "    )\n",
       "    (1): BasicBlock(\n",
       "      (conv1): Conv2d(512, 512, kernel_size=(3, 3), stride=(1, 1), padding=(1, 1), bias=False)\n",
       "      (bn1): BatchNorm2d(512, eps=1e-05, momentum=0.1, affine=True, track_running_stats=True)\n",
       "      (relu): ReLU(inplace=True)\n",
       "      (conv2): Conv2d(512, 512, kernel_size=(3, 3), stride=(1, 1), padding=(1, 1), bias=False)\n",
       "      (bn2): BatchNorm2d(512, eps=1e-05, momentum=0.1, affine=True, track_running_stats=True)\n",
       "    )\n",
       "  )\n",
       "  (avgpool): AdaptiveAvgPool2d(output_size=(1, 1))\n",
       "  (fc): Linear(in_features=512, out_features=10, bias=True)\n",
       ")"
      ]
     },
     "execution_count": 15,
     "metadata": {},
     "output_type": "execute_result"
    }
   ],
   "source": [
    "resent.fc = nn.Linear(512,10)\n",
    "resent.to(device)"
   ]
  },
  {
   "cell_type": "code",
   "execution_count": 20,
   "id": "eb316596",
   "metadata": {},
   "outputs": [],
   "source": [
    "lossfun = nn.CrossEntropyLoss()\n",
    "optimizer = torch.optim.SGD(resent.parameters(),lr=.001,momentum=.9)"
   ]
  },
  {
   "cell_type": "code",
   "execution_count": 21,
   "id": "f9ac86fd",
   "metadata": {},
   "outputs": [],
   "source": [
    "import sys\n",
    "sys.path.append('../utils')\n",
    "sys.path.append('../models')\n",
    "import importlib \n",
    "import training\n",
    "importlib.reload(training)\n",
    "from training import trainTheM0del"
   ]
  },
  {
   "cell_type": "code",
   "execution_count": 23,
   "id": "f40e728a",
   "metadata": {},
   "outputs": [
    {
     "name": "stdout",
     "output_type": "stream",
     "text": [
      "Epoch 1/20, Train Loss: 0.5146, Train Acc: 82.63, Test Acc: 77.34\n",
      "Epoch 2/20, Train Loss: 0.5100, Train Acc: 82.77, Test Acc: 76.56\n",
      "Epoch 3/20, Train Loss: 0.4940, Train Acc: 83.47, Test Acc: 77.73\n",
      "Epoch 4/20, Train Loss: 0.4800, Train Acc: 83.57, Test Acc: 76.56\n",
      "Epoch 5/20, Train Loss: 0.4930, Train Acc: 82.99, Test Acc: 79.69\n",
      "Epoch 6/20, Train Loss: 0.4831, Train Acc: 83.57, Test Acc: 76.56\n",
      "Epoch 7/20, Train Loss: 0.4828, Train Acc: 83.17, Test Acc: 76.17\n",
      "Epoch 8/20, Train Loss: 0.4599, Train Acc: 84.23, Test Acc: 78.91\n",
      "Epoch 9/20, Train Loss: 0.4599, Train Acc: 83.99, Test Acc: 76.95\n",
      "Epoch 10/20, Train Loss: 0.4683, Train Acc: 83.59, Test Acc: 76.56\n",
      "Epoch 11/20, Train Loss: 0.4612, Train Acc: 84.09, Test Acc: 77.34\n",
      "Epoch 12/20, Train Loss: 0.4590, Train Acc: 84.05, Test Acc: 76.56\n",
      "Epoch 13/20, Train Loss: 0.4603, Train Acc: 84.03, Test Acc: 77.34\n",
      "Epoch 14/20, Train Loss: 0.4563, Train Acc: 84.66, Test Acc: 76.95\n",
      "Epoch 15/20, Train Loss: 0.4445, Train Acc: 84.42, Test Acc: 78.91\n",
      "Epoch 16/20, Train Loss: 0.4427, Train Acc: 84.40, Test Acc: 78.52\n",
      "Epoch 17/20, Train Loss: 0.4353, Train Acc: 85.24, Test Acc: 77.73\n",
      "Epoch 18/20, Train Loss: 0.4202, Train Acc: 85.20, Test Acc: 78.52\n",
      "Epoch 19/20, Train Loss: 0.4319, Train Acc: 84.94, Test Acc: 77.73\n",
      "Epoch 20/20, Train Loss: 0.4290, Train Acc: 84.84, Test Acc: 78.91\n"
     ]
    }
   ],
   "source": [
    "losses, train_accuracy, test_accuracy = trainTheM0del(\n",
    "        isClassification=True,\n",
    "        optimizer = optimizer,\n",
    "        doBN=False,\n",
    "        model=resent,\n",
    "        train_loader=train_loader,\n",
    "        test_loader=test_loader,\n",
    "        num_epochs=20, \n",
    "        loss_function= lossfun,\n",
    "        device = device\n",
    "        )"
   ]
  },
  {
   "cell_type": "code",
   "execution_count": null,
   "id": "26701c8b",
   "metadata": {},
   "outputs": [],
   "source": []
  }
 ],
 "metadata": {
  "kernelspec": {
   "display_name": "ia",
   "language": "python",
   "name": "python3"
  },
  "language_info": {
   "codemirror_mode": {
    "name": "ipython",
    "version": 3
   },
   "file_extension": ".py",
   "mimetype": "text/x-python",
   "name": "python",
   "nbconvert_exporter": "python",
   "pygments_lexer": "ipython3",
   "version": "3.13.5"
  }
 },
 "nbformat": 4,
 "nbformat_minor": 5
}
