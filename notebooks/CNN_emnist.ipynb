{
 "cells": [
  {
   "cell_type": "markdown",
   "metadata": {},
   "source": [
    "# EMNIST dataset using CNN"
   ]
  },
  {
   "cell_type": "code",
   "execution_count": 2,
   "metadata": {},
   "outputs": [],
   "source": [
    "import numpy as np\n",
    "\n",
    "import torch\n",
    "import torch.nn as nn\n",
    "import torch.nn.functional as F\n",
    "from torch.utils.data  import DataLoader,TensorDataset\n",
    "import copy \n",
    "from sklearn.model_selection import train_test_split\n",
    "\n",
    "# for importin data \n",
    "import torchvision\n",
    "\n",
    "import matplotlib.pyplot as plt"
   ]
  },
  {
   "cell_type": "code",
   "execution_count": 3,
   "metadata": {},
   "outputs": [],
   "source": [
    "cdata = torchvision.datasets.EMNIST(root='../data/emnist', split='letters', download=False)"
   ]
  },
  {
   "cell_type": "code",
   "execution_count": 3,
   "metadata": {},
   "outputs": [
    {
     "name": "stdout",
     "output_type": "stream",
     "text": [
      "['N/A', 'a', 'b', 'c', 'd', 'e', 'f', 'g', 'h', 'i', 'j', 'k', 'l', 'm', 'n', 'o', 'p', 'q', 'r', 's', 't', 'u', 'v', 'w', 'x', 'y', 'z']\n",
      "27\n"
     ]
    }
   ],
   "source": [
    "# inspect the data\n",
    "print(cdata.classes)\n",
    "print(len(cdata.classes))"
   ]
  },
  {
   "cell_type": "code",
   "execution_count": 4,
   "metadata": {},
   "outputs": [
    {
     "name": "stdout",
     "output_type": "stream",
     "text": [
      "torch.Size([124800, 28, 28])\n"
     ]
    }
   ],
   "source": [
    "print(cdata.data.shape)"
   ]
  },
  {
   "cell_type": "code",
   "execution_count": 9,
   "metadata": {},
   "outputs": [
    {
     "name": "stdout",
     "output_type": "stream",
     "text": [
      "torch.Size([124800, 1, 28, 28])\n"
     ]
    }
   ],
   "source": [
    "# we notice that the dataset doesn't containe the rgb dimension so we will add it since the CNN requires it\n",
    "images = cdata.data.reshape(cdata.data.shape[0], 1, 28, 28).float()\n",
    "print(images.shape)"
   ]
  },
  {
   "cell_type": "code",
   "execution_count": 5,
   "metadata": {},
   "outputs": [
    {
     "name": "stdout",
     "output_type": "stream",
     "text": [
      "tensor(0)\n",
      "tensor([ 1,  2,  3,  4,  5,  6,  7,  8,  9, 10, 11, 12, 13, 14, 15, 16, 17, 18,\n",
      "        19, 20, 21, 22, 23, 24, 25, 26])\n"
     ]
    }
   ],
   "source": [
    "print(torch.sum(cdata.targets == 0))\n",
    "print(torch.unique(cdata.targets))"
   ]
  },
  {
   "cell_type": "code",
   "execution_count": 11,
   "metadata": {},
   "outputs": [
    {
     "data": {
      "text/plain": [
       "{'N/A': 0,\n",
       " 'a': 1,\n",
       " 'b': 2,\n",
       " 'c': 3,\n",
       " 'd': 4,\n",
       " 'e': 5,\n",
       " 'f': 6,\n",
       " 'g': 7,\n",
       " 'h': 8,\n",
       " 'i': 9,\n",
       " 'j': 10,\n",
       " 'k': 11,\n",
       " 'l': 12,\n",
       " 'm': 13,\n",
       " 'n': 14,\n",
       " 'o': 15,\n",
       " 'p': 16,\n",
       " 'q': 17,\n",
       " 'r': 18,\n",
       " 's': 19,\n",
       " 't': 20,\n",
       " 'u': 21,\n",
       " 'v': 22,\n",
       " 'w': 23,\n",
       " 'x': 24,\n",
       " 'y': 25,\n",
       " 'z': 26}"
      ]
     },
     "execution_count": 11,
     "metadata": {},
     "output_type": "execute_result"
    }
   ],
   "source": [
    "cdata.class_to_idx"
   ]
  },
  {
   "cell_type": "code",
   "execution_count": 4,
   "metadata": {},
   "outputs": [
    {
     "data": {
      "text/plain": [
       "['a',\n",
       " 'b',\n",
       " 'c',\n",
       " 'd',\n",
       " 'e',\n",
       " 'f',\n",
       " 'g',\n",
       " 'h',\n",
       " 'i',\n",
       " 'j',\n",
       " 'k',\n",
       " 'l',\n",
       " 'm',\n",
       " 'n',\n",
       " 'o',\n",
       " 'p',\n",
       " 'q',\n",
       " 'r',\n",
       " 's',\n",
       " 't',\n",
       " 'u',\n",
       " 'v',\n",
       " 'w',\n",
       " 'x',\n",
       " 'y',\n",
       " 'z']"
      ]
     },
     "execution_count": 4,
     "metadata": {},
     "output_type": "execute_result"
    }
   ],
   "source": [
    "letter_categories = cdata.classes[1:] # # remove the first class which is '0' 'N/A'\n",
    "letter_categories"
   ]
  },
  {
   "cell_type": "code",
   "execution_count": 5,
   "metadata": {},
   "outputs": [
    {
     "data": {
      "text/plain": [
       "torch.Size([124800])"
      ]
     },
     "execution_count": 5,
     "metadata": {},
     "output_type": "execute_result"
    }
   ],
   "source": [
    "labels = copy.deepcopy(cdata.targets) - 1 # relable the labels to start from 0\n",
    "labels.shape"
   ]
  },
  {
   "cell_type": "code",
   "execution_count": 6,
   "metadata": {},
   "outputs": [
    {
     "data": {
      "text/plain": [
       "tensor([ 0,  1,  2,  3,  4,  5,  6,  7,  8,  9, 10, 11, 12, 13, 14, 15, 16, 17,\n",
       "        18, 19, 20, 21, 22, 23, 24, 25])"
      ]
     },
     "execution_count": 6,
     "metadata": {},
     "output_type": "execute_result"
    }
   ],
   "source": [
    "torch.unique(labels)"
   ]
  },
  {
   "cell_type": "code",
   "execution_count": 13,
   "metadata": {},
   "outputs": [
    {
     "data": {
      "image/png": "[encoded data removed]",
      "text/plain": [
       "<Figure size 640x480 with 1 Axes>"
      ]
     },
     "metadata": {},
     "output_type": "display_data"
    }
   ],
   "source": [
    "# Do we need to normalize the images?\n",
    "plt.hist(images[:10,:,:,:].view(1,-1).detach(),40)\n",
    "plt.title('Histogram of pixel values')\n",
    "plt.show()"
   ]
  },
  {
   "cell_type": "code",
   "execution_count": 14,
   "metadata": {},
   "outputs": [
    {
     "data": {
      "image/png": "[encoded data removed]",
      "text/plain": [
       "<Figure size 640x480 with 1 Axes>"
      ]
     },
     "metadata": {},
     "output_type": "display_data"
    }
   ],
   "source": [
    "# We notice that our data is not normalized so we will normalize it\n",
    "images /= torch.max(images) \n",
    "plt.hist(images[:10,:,:,:].view(1,-1).detach(),40)\n",
    "plt.title('Histogram of pixel values after normalization')\n",
    "plt.show()"
   ]
  },
  {
   "cell_type": "code",
   "execution_count": 15,
   "metadata": {},
   "outputs": [],
   "source": [
    "# visualize some images\n",
    "def plot_images(images, labels):\n",
    "    fig, axes = plt.subplots(2, 5, figsize=(10, 4))\n",
    "    for i in range(10):\n",
    "        ax = axes[i // 5, i % 5]\n",
    "        ax.imshow(images[i].squeeze(), cmap='gray')\n",
    "        ax.set_title(letter_categories[labels[i]])\n",
    "        ax.axis('off')\n",
    "    plt.show()"
   ]
  },
  {
   "cell_type": "code",
   "execution_count": 16,
   "metadata": {},
   "outputs": [
    {
     "data": {
      "image/png": "[encoded data removed]",
      "text/plain": [
       "<Figure size 1000x400 with 10 Axes>"
      ]
     },
     "metadata": {},
     "output_type": "display_data"
    }
   ],
   "source": [
    "plot_images(images[:10], labels[:10])"
   ]
  },
  {
   "cell_type": "markdown",
   "metadata": {},
   "source": [
    "## Create test/train partitions using DataLoader"
   ]
  },
  {
   "cell_type": "code",
   "execution_count": 20,
   "metadata": {},
   "outputs": [
    {
     "name": "stdout",
     "output_type": "stream",
     "text": [
      "torch.Size([112320, 1, 28, 28])\n",
      "torch.Size([112320])\n"
     ]
    }
   ],
   "source": [
    "train_data, test_data, train_labels, test_labels = train_test_split(images, labels, test_size=0.1, random_state=42)\n",
    "\n",
    "# Convert into PyTorch tensors\n",
    "train_data = TensorDataset(train_data, train_labels)\n",
    "test_data = TensorDataset(test_data, test_labels)\n",
    "print(train_data.tensors[0].shape)\n",
    "print(train_data.tensors[1].shape)\n",
    "\n",
    "# Create DataLoader for training and testing\n",
    "batch_size = 32\n",
    "train_loader = DataLoader(train_data, batch_size=batch_size, shuffle=True,drop_last=True)\n",
    "test_loader = DataLoader(test_data, batch_size=test_data.tensors[0].shape[0])"
   ]
  },
  {
   "cell_type": "code",
   "execution_count": null,
   "metadata": {},
   "outputs": [],
   "source": []
  },
  {
   "cell_type": "code",
   "execution_count": 19,
   "metadata": {},
   "outputs": [
    {
     "name": "stdout",
     "output_type": "stream",
     "text": [
      "torch.Size([112320, 1, 28, 28])\n",
      "torch.Size([112320])\n"
     ]
    }
   ],
   "source": [
    "print(train_loader.dataset.tensors[0].shape)\n",
    "print(train_loader.dataset.tensors[1].shape)"
   ]
  },
  {
   "cell_type": "markdown",
   "metadata": {},
   "source": [
    "## Create the model"
   ]
  },
  {
   "cell_type": "code",
   "execution_count": 22,
   "metadata": {},
   "outputs": [],
   "source": [
    "def makeTheNet(printtogle=False):\n",
    "    class EmnistCNN(nn.Module):\n",
    "        def __init__(self,printtogle=False):\n",
    "            super().__init__()\n",
    "\n",
    "            self.print = printtogle\n",
    "            self.conv1 = nn.Conv2d(1,6,3,padding=1) # 28x28x1 -> 28x28x6\n",
    "            self.bnorm1 = nn.BatchNorm2d(6)\n",
    "\n",
    "            self.conv2 = nn.Conv2d(6,6,3,padding=1) \n",
    "            self.bnorm2 = nn.BatchNorm2d(6)\n",
    "\n",
    "            self.fc1 = nn.Linear(7*7*6, 50)\n",
    "            self.fc2 = nn.Linear(50, 26)\n",
    "\n",
    "        def forward(self, x):\n",
    "            if self.print:\n",
    "                print(f\"Input shape: {list(x.shape)}\")\n",
    "\n",
    "            # first block: conv -> maxpool -> batchnorm -> relu\n",
    "            x = F.max_pool2d(self.conv1(x), 2) \n",
    "            x = F.leaky_relu(self.bnorm1(x))\n",
    "            if self.print:\n",
    "                print(f\"First CPR block: {list(x.shape)}\")\n",
    "\n",
    "            # second block: conv -> maxpool -> batchnorm -> relu\n",
    "            x = F.max_pool2d(self.conv2(x), 2)\n",
    "            x = F.leaky_relu(self.bnorm2(x))\n",
    "            if self.print:\n",
    "                print(f\"Second CPR block: {list(x.shape)}\")\n",
    "\n",
    "            # reshape for linear layer\n",
    "            nUnits = x.shape.numel() / x.shape[0]\n",
    "            x = x.view(-1,int(nUnits))\n",
    "            if self.print:\n",
    "                print(f\"Vectorized: {list(x.shape)}\")\n",
    "\n",
    "            # linear layers\n",
    "            x = F.leaky_relu(self.fc1(x))\n",
    "            x = self.fc2(x)\n",
    "            if self.print:\n",
    "                print(f\"Output shape: {list(x.shape)}\")\n",
    "            return x\n",
    "\n",
    "\n",
    "    net = EmnistCNN(printtogle=printtogle)\n",
    "    loss = nn.CrossEntropyLoss()\n",
    "    optimizer = torch.optim.Adam(net.parameters(), lr=0.001)\n",
    "\n",
    "\n",
    "    return net, loss, optimizer                    "
   ]
  },
  {
   "cell_type": "code",
   "execution_count": 28,
   "metadata": {},
   "outputs": [],
   "source": [
    "net , lossfun, optimizer = makeTheNet(printtogle=False)"
   ]
  },
  {
   "cell_type": "code",
   "execution_count": 29,
   "metadata": {},
   "outputs": [
    {
     "name": "stdout",
     "output_type": "stream",
     "text": [
      "torch.Size([32, 26])\n",
      "tensor([ 0.1917, -0.0819, -0.1336, -0.2244,  0.2140,  0.0887,  0.5115,  0.0575,\n",
      "        -0.3255, -0.3146, -0.1269, -0.1531, -0.0823, -0.1247,  0.0388, -0.1618,\n",
      "        -0.4314, -0.0430, -0.1696, -0.0767, -0.2733, -0.0954,  0.0253, -0.2908,\n",
      "         0.1089,  0.0517], grad_fn=<SelectBackward0>)\n"
     ]
    }
   ],
   "source": [
    "X, y = next(iter(train_loader))\n",
    "yHat = net(X)\n",
    "print(yHat.shape) # 32x26 batch size x number of classes\n",
    "print(yHat[0]) # 26 classes"
   ]
  },
  {
   "cell_type": "code",
   "execution_count": 31,
   "metadata": {},
   "outputs": [
    {
     "name": "stdout",
     "output_type": "stream",
     "text": [
      "tensor(3.3176, grad_fn=<NllLossBackward0>)\n"
     ]
    }
   ],
   "source": [
    "loss = lossfun(yHat, torch.squeeze(y))\n",
    "print(loss)"
   ]
  },
  {
   "cell_type": "code",
   "execution_count": 38,
   "metadata": {},
   "outputs": [],
   "source": [
    "def fucntion2trainThemodel(net, lossfun, optimizer, train_loader, epochs=10):\n",
    "    trainlosses = torch.zeros(epochs)\n",
    "    testlosses = torch.zeros(epochs)\n",
    "    trainErr = torch.zeros(epochs)\n",
    "    testErr = torch.zeros(epochs)\n",
    "\n",
    "    for epoch in range(epochs):\n",
    "        net.train() \n",
    "        batchloss = []\n",
    "        batchErr = []\n",
    "\n",
    "        for X,y in train_loader: \n",
    "\n",
    "            # forward pass and loss\n",
    "            yHat = net(X)\n",
    "            loss = lossfun(yHat, y)\n",
    "\n",
    "            # backpropagation\n",
    "            optimizer.zero_grad()\n",
    "            loss.backward()\n",
    "            optimizer.step()\n",
    "\n",
    "            # loss and error from this batch \n",
    "            batchloss.append(loss.item())\n",
    "            batchErr.append(torch.mean((torch.argmax(yHat,1) != y).float()).item())\n",
    "\n",
    "            # end of batch loop\n",
    "\n",
    "        trainlosses[epoch] = np.mean(batchloss)    \n",
    "        trainErr[epoch] = 100* np.mean(batchErr)\n",
    "\n",
    "        net.eval() # set the model to evaluation mode\n",
    "        X,y = next(iter(test_loader)) # get the test data\n",
    "        with torch.no_grad():\n",
    "            yHat = net(X) # forward pass\n",
    "            loss = lossfun(yHat, y)\n",
    "            \n",
    "        testlosses[epoch] = loss.item()\n",
    "        testErr[epoch] = 100* torch.mean((torch.argmax(yHat,1) != y).float()).item()\n",
    "        print(f\"Epoch {epoch+1}/{epochs}: Train Loss: {trainlosses[epoch]:.4f}, Train Error: {trainErr[epoch]:.2f}%, Test Loss: {testlosses[epoch]:.4f}, Test Error: {testErr[epoch]:.2f}%\")\n",
    "  \n",
    "    return trainlosses, testlosses, trainErr, testErr"
   ]
  },
  {
   "cell_type": "code",
   "execution_count": 39,
   "metadata": {},
   "outputs": [
    {
     "name": "stdout",
     "output_type": "stream",
     "text": [
      "Epoch 1/10: Train Loss: 0.2538, Train Error: 8.50%, Test Loss: 0.2524, Test Error: 8.55%\n",
      "Epoch 2/10: Train Loss: 0.2418, Train Error: 8.09%, Test Loss: 0.2594, Test Error: 8.60%\n",
      "Epoch 3/10: Train Loss: 0.2334, Train Error: 7.88%, Test Loss: 0.2521, Test Error: 8.19%\n",
      "Epoch 4/10: Train Loss: 0.2230, Train Error: 7.51%, Test Loss: 0.2450, Test Error: 8.14%\n",
      "Epoch 5/10: Train Loss: 0.2179, Train Error: 7.48%, Test Loss: 0.2363, Test Error: 8.10%\n",
      "Epoch 6/10: Train Loss: 0.2129, Train Error: 7.23%, Test Loss: 0.2361, Test Error: 7.64%\n",
      "Epoch 7/10: Train Loss: 0.2071, Train Error: 7.14%, Test Loss: 0.2466, Test Error: 7.95%\n",
      "Epoch 8/10: Train Loss: 0.2023, Train Error: 6.99%, Test Loss: 0.2464, Test Error: 8.08%\n",
      "Epoch 9/10: Train Loss: 0.1980, Train Error: 6.82%, Test Loss: 0.2306, Test Error: 7.63%\n",
      "Epoch 10/10: Train Loss: 0.1945, Train Error: 6.76%, Test Loss: 0.2529, Test Error: 8.61%\n"
     ]
    },
    {
     "data": {
      "text/plain": [
       "(tensor([0.2538, 0.2418, 0.2334, 0.2230, 0.2179, 0.2129, 0.2071, 0.2023, 0.1980,\n",
       "         0.1945]),\n",
       " tensor([0.2524, 0.2594, 0.2521, 0.2450, 0.2363, 0.2361, 0.2466, 0.2464, 0.2306,\n",
       "         0.2529]),\n",
       " tensor([8.5016, 8.0921, 7.8793, 7.5098, 7.4777, 7.2338, 7.1359, 6.9916, 6.8153,\n",
       "         6.7575]),\n",
       " tensor([8.5497, 8.5978, 8.1891, 8.1410, 8.1010, 7.6362, 7.9487, 8.0769, 7.6282,\n",
       "         8.6058]))"
      ]
     },
     "execution_count": 39,
     "metadata": {},
     "output_type": "execute_result"
    }
   ],
   "source": [
    "fucntion2trainThemodel(net, lossfun, optimizer, train_loader, epochs=10)"
   ]
  }
 ],
 "metadata": {
  "kernelspec": {
   "display_name": "tensorflowEnv",
   "language": "python",
   "name": "python3"
  },
  "language_info": {
   "codemirror_mode": {
    "name": "ipython",
    "version": 3
   },
   "file_extension": ".py",
   "mimetype": "text/x-python",
   "name": "python",
   "nbconvert_exporter": "python",
   "pygments_lexer": "ipython3",
   "version": "3.10.16"
  }
 },
 "nbformat": 4,
 "nbformat_minor": 2
}
