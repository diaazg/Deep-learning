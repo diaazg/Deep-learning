{
 "cells": [
  {
   "cell_type": "markdown",
   "id": "f3df90f2",
   "metadata": {},
   "source": [
    "# Pretraining via auto-encoders"
   ]
  },
  {
   "cell_type": "markdown",
   "id": "d57f370d",
   "metadata": {},
   "source": [
    "- The traditional transfer learning preserver the same model architecture.\n",
    "\n",
    "- Pre-training via auto-encoder is slightly different. It is based on training an auto-encoder on our data then we transfer only the encoder part and we have to attach some FF layers.\n",
    "\n",
    "  - Build an auto-encoder for our data.\n",
    "\n",
    "  - Train the auto-encoder to satisfactory performance.\n",
    "\n",
    "  - Create a new model that has the same architecture as the encoder, and copy weights from the auto-encoder.\n",
    "\n",
    "  - Add linear layers to the end of the new model.\n",
    "\n",
    "  - Train the transfered model to classify the data.\n"
   ]
  },
  {
   "cell_type": "markdown",
   "id": "ad68f301",
   "metadata": {},
   "source": [
    "**Pros and cons of autoencoder pretraining**\n",
    "\n",
    " - Optimize the model for your data as oppesed to traditional transfer learning which use model trained on different data.\n",
    "\n",
    " - Usefull with limited data (can re-use data without overfitting) because with use all of our data to pre-traine the auto-encoder and then use the same data to train the transferred model which his purpose is totally different from the purpose of the auo-encoder model and that prevent overfitting.\n",
    "\n",
    " - Can save computation time if using an existing model.\n",
    "\n",
    " - The most relevant pros of this approach is that auto-encoders do not necessarily identify the features that are relevant for classification so not every params transfers."
   ]
  },
  {
   "cell_type": "code",
   "execution_count": 30,
   "id": "aab97eda",
   "metadata": {},
   "outputs": [],
   "source": [
    "import numpy as np\n",
    "\n",
    "import torch\n",
    "import torch.nn as nn\n",
    "import torch.nn.functional as F\n",
    "from torch.utils.data  import DataLoader,TensorDataset,Subset\n",
    "import copy \n",
    "from sklearn.model_selection import train_test_split\n",
    "import torchvision\n",
    "import torchvision.transforms as T\n",
    "\n",
    "import matplotlib.pyplot as plt\n",
    "import pandas as pd"
   ]
  },
  {
   "cell_type": "code",
   "execution_count": 31,
   "id": "88773bc2",
   "metadata": {},
   "outputs": [],
   "source": [
    "transform = T.Compose([\n",
    "    T.ToTensor(),\n",
    "    T.RandomHorizontalFlip(p=.5),\n",
    "    T.Normalize(.5,.5)\n",
    "])\n",
    "\n",
    "batch_size = 32\n",
    "\n",
    "trainset = torchvision.datasets.FashionMNIST(root='../data',train=True,download=False,transform=transform)\n",
    "devset = torchvision.datasets.FashionMNIST(root='../data',train=False,download=False,transform=transform)"
   ]
  },
  {
   "cell_type": "code",
   "execution_count": 32,
   "id": "bcf3325f",
   "metadata": {},
   "outputs": [
    {
     "data": {
      "text/plain": [
       "array([4698,  426, 2235, ..., 3506, 4786, 2245], shape=(10000,))"
      ]
     },
     "execution_count": 32,
     "metadata": {},
     "output_type": "execute_result"
    }
   ],
   "source": [
    "randidx = np.random.permutation(10000)\n",
    "randidx"
   ]
  },
  {
   "cell_type": "code",
   "execution_count": 33,
   "id": "887004a6",
   "metadata": {},
   "outputs": [],
   "source": [
    "devset = Subset(devset,randidx[:6000])\n",
    "testset = Subset(devset,randidx[6000:])"
   ]
  },
  {
   "cell_type": "code",
   "execution_count": 34,
   "id": "4054613e",
   "metadata": {},
   "outputs": [],
   "source": [
    "train_loader = DataLoader(trainset,batch_size=batch_size,shuffle=True,drop_last=True)\n",
    "dev_loader = DataLoader(testset,batch_size=len(testset))\n",
    "test_loader =  DataLoader(devset,batch_size=len(devset))"
   ]
  },
  {
   "cell_type": "code",
   "execution_count": 35,
   "id": "c8503605",
   "metadata": {},
   "outputs": [
    {
     "data": {
      "text/plain": [
       "torch.Size([60000, 28, 28])"
      ]
     },
     "execution_count": 35,
     "metadata": {},
     "output_type": "execute_result"
    }
   ],
   "source": [
    "train_loader.dataset.data.shape"
   ]
  },
  {
   "cell_type": "code",
   "execution_count": 36,
   "id": "f66fda1f",
   "metadata": {},
   "outputs": [],
   "source": [
    "def AEModel():\n",
    "    class aenet(nn.Module):\n",
    "        def __init__(self, *args, **kwargs):\n",
    "            super().__init__(*args, **kwargs)\n",
    "\n",
    "            self.encconv1 = nn.Conv2d(1,16,3,padding=1,stride=2)\n",
    "            self.encconv2 = nn.Conv2d(16,32,3,padding=1,stride=2)\n",
    "\n",
    "            self.deconv1 = nn.ConvTranspose2d(32,16,4,padding=1,stride=2)\n",
    "            self.deconv2 = nn.ConvTranspose2d(16,1,4,padding=1,stride=2)\n",
    "\n",
    "        def forward(self,x):\n",
    "            x = F.leaky_relu(self.encconv1(x))\n",
    "            x = F.leaky_relu(self.encconv2(x))\n",
    "\n",
    "            x = F.leaky_relu(self.deconv1(x))\n",
    "            x = F.leaky_relu(self.deconv2(x))\n",
    "\n",
    "            return x\n",
    "\n",
    "    net = aenet()\n",
    "    lossfun = nn.MSELoss()\n",
    "    optimizer = torch.optim.Adam(net.parameters(),lr=.001) \n",
    "\n",
    "    return net,lossfun,optimizer   "
   ]
  },
  {
   "cell_type": "code",
   "execution_count": 37,
   "id": "d3de56d3",
   "metadata": {},
   "outputs": [
    {
     "data": {
      "text/plain": [
       "device(type='mps')"
      ]
     },
     "execution_count": 37,
     "metadata": {},
     "output_type": "execute_result"
    }
   ],
   "source": [
    "device = torch.device(\"mps\" if torch.backends.mps.is_available() else \"cpu\")\n",
    "device"
   ]
  },
  {
   "cell_type": "code",
   "execution_count": 38,
   "id": "82e23a72",
   "metadata": {},
   "outputs": [
    {
     "name": "stdout",
     "output_type": "stream",
     "text": [
      "yhat shape :  torch.Size([32, 1, 28, 28])\n"
     ]
    }
   ],
   "source": [
    "tmpae, tmplossfun, tmpptimizer = AEModel()\n",
    "X,y = next(iter(train_loader))\n",
    "yHat = tmpae(X)\n",
    "print(f'yhat shape :  {yHat.shape}')\n"
   ]
  },
  {
   "cell_type": "code",
   "execution_count": 39,
   "id": "bf822f4a",
   "metadata": {},
   "outputs": [
    {
     "data": {
      "text/plain": [
       "aenet(\n",
       "  (encconv1): Conv2d(1, 16, kernel_size=(3, 3), stride=(2, 2), padding=(1, 1))\n",
       "  (encconv2): Conv2d(16, 32, kernel_size=(3, 3), stride=(2, 2), padding=(1, 1))\n",
       "  (deconv1): ConvTranspose2d(32, 16, kernel_size=(4, 4), stride=(2, 2), padding=(1, 1))\n",
       "  (deconv2): ConvTranspose2d(16, 1, kernel_size=(4, 4), stride=(2, 2), padding=(1, 1))\n",
       ")"
      ]
     },
     "execution_count": 39,
     "metadata": {},
     "output_type": "execute_result"
    }
   ],
   "source": [
    "ae, lossfun, optimizer = AEModel()\n",
    "ae.to(device)"
   ]
  },
  {
   "cell_type": "code",
   "execution_count": 40,
   "id": "35cc4e57",
   "metadata": {},
   "outputs": [],
   "source": [
    "import importlib.util\n",
    "\n",
    "file_path = \"../utils/training_ae.py\"\n",
    "spec = importlib.util.spec_from_file_location(\"ae_trainer\", file_path)\n",
    "ae_trainer = importlib.util.module_from_spec(spec)\n",
    "spec.loader.exec_module(ae_trainer)\n",
    "\n",
    "trainAE = ae_trainer.trainAE"
   ]
  },
  {
   "cell_type": "code",
   "execution_count": 41,
   "id": "6f97c756",
   "metadata": {},
   "outputs": [
    {
     "name": "stdout",
     "output_type": "stream",
     "text": [
      "Epoch 1/20 - Train Loss: 0.1000 - Test Loss: 0.0506\n",
      "Epoch 2/20 - Train Loss: 0.0380 - Test Loss: 0.0285\n",
      "Epoch 3/20 - Train Loss: 0.0239 - Test Loss: 0.0197\n",
      "Epoch 4/20 - Train Loss: 0.0171 - Test Loss: 0.0150\n",
      "Epoch 5/20 - Train Loss: 0.0140 - Test Loss: 0.0127\n",
      "Epoch 6/20 - Train Loss: 0.0121 - Test Loss: 0.0107\n",
      "Epoch 7/20 - Train Loss: 0.0101 - Test Loss: 0.0099\n",
      "Epoch 8/20 - Train Loss: 0.0090 - Test Loss: 0.0084\n",
      "Epoch 9/20 - Train Loss: 0.0083 - Test Loss: 0.0079\n",
      "Epoch 10/20 - Train Loss: 0.0077 - Test Loss: 0.0076\n",
      "Epoch 11/20 - Train Loss: 0.0073 - Test Loss: 0.0070\n",
      "Epoch 12/20 - Train Loss: 0.0069 - Test Loss: 0.0069\n",
      "Epoch 13/20 - Train Loss: 0.0066 - Test Loss: 0.0063\n",
      "Epoch 14/20 - Train Loss: 0.0063 - Test Loss: 0.0063\n",
      "Epoch 15/20 - Train Loss: 0.0061 - Test Loss: 0.0059\n",
      "Epoch 16/20 - Train Loss: 0.0059 - Test Loss: 0.0058\n",
      "Epoch 17/20 - Train Loss: 0.0057 - Test Loss: 0.0056\n",
      "Epoch 18/20 - Train Loss: 0.0054 - Test Loss: 0.0052\n",
      "Epoch 19/20 - Train Loss: 0.0051 - Test Loss: 0.0051\n",
      "Epoch 20/20 - Train Loss: 0.0047 - Test Loss: 0.0046\n"
     ]
    }
   ],
   "source": [
    "train_loss, test_loss, trained_model = trainAE(\n",
    "    model=ae,\n",
    "    optimizer=optimizer,\n",
    "    train_loader=train_loader,\n",
    "    test_loader=test_loader,\n",
    "    num_epochs=20,\n",
    "    device=device\n",
    ")"
   ]
  },
  {
   "cell_type": "markdown",
   "id": "656bea05",
   "metadata": {},
   "source": [
    "# Model that does classification"
   ]
  },
  {
   "cell_type": "code",
   "execution_count": 44,
   "id": "35c18fa9",
   "metadata": {},
   "outputs": [],
   "source": [
    "def classModel():\n",
    "    class cnn(nn.Module):\n",
    "        def __init__(self, *args, **kwargs):\n",
    "            super().__init__(*args, **kwargs)\n",
    "\n",
    "            self.encconv1 = nn.Conv2d(1,16,3,padding=1,stride=2)\n",
    "            self.encconv2 = nn.Conv2d(16,32,3,padding=1,stride=2)\n",
    "\n",
    "            self.fc1 = nn.Linear(7*7*32,50)\n",
    "            self.fc2 = nn.Linear(50,10)\n",
    "\n",
    "        def forward(self,x):\n",
    "            x = F.leaky_relu(self.encconv1(x))\n",
    "            x = F.leaky_relu(self.encconv2(x))\n",
    "\n",
    "            nUnits = x.shape.numel()/x.shape[0]\n",
    "            x = x.view(-1,int(nUnits))\n",
    "            x = F.leaky_relu(self.fc1(x))\n",
    "            x = F.leaky_relu(self.fc2(x))\n",
    "\n",
    "\n",
    "            return x\n",
    "\n",
    "    net = cnn()\n",
    "    lossfun = nn.CrossEntropyLoss()\n",
    "    optimizer = torch.optim.Adam(net.parameters(),lr=.001) \n",
    "\n",
    "    return net,lossfun,optimizer   "
   ]
  },
  {
   "cell_type": "code",
   "execution_count": 46,
   "id": "b40cba59",
   "metadata": {},
   "outputs": [
    {
     "name": "stdout",
     "output_type": "stream",
     "text": [
      "Freezing and copying: encconv1.weight\n",
      "Freezing and copying: encconv1.bias\n",
      "Freezing and copying: encconv2.weight\n",
      "Freezing and copying: encconv2.bias\n"
     ]
    }
   ],
   "source": [
    "preTrainedAe, preTrainedLoss, preTrainedOptimizer = classModel()\n",
    "\n",
    "for (target_name, target_param), (_, source_param) in zip(preTrainedAe.named_parameters(), trained_model.named_parameters()):\n",
    "    if 'enc' in target_name:\n",
    "        print(f\"Freezing and copying: {target_name}\")\n",
    "        target_param.data = copy.deepcopy(source_param.data)\n",
    "        target_param.requires_grad = False  "
   ]
  },
  {
   "cell_type": "code",
   "execution_count": 47,
   "id": "5044c75a",
   "metadata": {},
   "outputs": [
    {
     "data": {
      "text/plain": [
       "cnn(\n",
       "  (encconv1): Conv2d(1, 16, kernel_size=(3, 3), stride=(2, 2), padding=(1, 1))\n",
       "  (encconv2): Conv2d(16, 32, kernel_size=(3, 3), stride=(2, 2), padding=(1, 1))\n",
       "  (fc1): Linear(in_features=1568, out_features=50, bias=True)\n",
       "  (fc2): Linear(in_features=50, out_features=10, bias=True)\n",
       ")"
      ]
     },
     "execution_count": 47,
     "metadata": {},
     "output_type": "execute_result"
    }
   ],
   "source": [
    "preTrainedAe.to(device)"
   ]
  },
  {
   "cell_type": "code",
   "execution_count": 48,
   "id": "90441eae",
   "metadata": {},
   "outputs": [],
   "source": [
    "lossfun = nn.CrossEntropyLoss()\n",
    "optimizer = torch.optim.SGD(preTrainedAe.parameters(),lr=.001,momentum=.9)"
   ]
  },
  {
   "cell_type": "code",
   "execution_count": null,
   "id": "985bd012",
   "metadata": {},
   "outputs": [],
   "source": [
    "import sys\n",
    "sys.path.append('../utils')\n",
    "sys.path.append('../models')\n",
    "import importlib \n",
    "import training\n",
    "importlib.reload(training)\n",
    "from training import trainTheM0del"
   ]
  },
  {
   "cell_type": "code",
   "execution_count": null,
   "id": "11631c22",
   "metadata": {},
   "outputs": [
    {
     "name": "stdout",
     "output_type": "stream",
     "text": [
      "Epoch 1/10, Train Loss: 1.1083, Train Acc: 60.49, Test Acc: 75.98\n",
      "Epoch 2/10, Train Loss: 0.6014, Train Acc: 78.71, Test Acc: 75.93\n",
      "Epoch 3/10, Train Loss: 0.5558, Train Acc: 80.41, Test Acc: 82.48\n",
      "Epoch 4/10, Train Loss: 0.5297, Train Acc: 81.38, Test Acc: 81.60\n",
      "Epoch 5/10, Train Loss: 0.5079, Train Acc: 81.97, Test Acc: 80.97\n",
      "Epoch 6/10, Train Loss: 0.4867, Train Acc: 82.62, Test Acc: 83.00\n",
      "Epoch 7/10, Train Loss: 0.4736, Train Acc: 83.11, Test Acc: 82.70\n",
      "Epoch 8/10, Train Loss: 0.4646, Train Acc: 83.33, Test Acc: 79.60\n",
      "Epoch 9/10, Train Loss: 0.4563, Train Acc: 83.78, Test Acc: 82.88\n",
      "Epoch 10/10, Train Loss: 0.4479, Train Acc: 83.83, Test Acc: 82.63\n"
     ]
    }
   ],
   "source": [
    "losses, train_accuracy, test_accuracy = trainTheM0del(\n",
    "        isClassification=True,\n",
    "        optimizer = optimizer,\n",
    "        doBN=False,\n",
    "        model=preTrainedAe,\n",
    "        train_loader=train_loader,\n",
    "        test_loader=test_loader,\n",
    "        num_epochs=10, \n",
    "        loss_function= lossfun,\n",
    "        device = device\n",
    "        )"
   ]
  },
  {
   "cell_type": "markdown",
   "id": "4b66d07b",
   "metadata": {},
   "source": [
    "# CIFAR auto-encoder"
   ]
  },
  {
   "cell_type": "markdown",
   "id": "234fe689",
   "metadata": {},
   "source": [
    "- Create full and small dataset.\n",
    "\n",
    "- Train CNN auto-encoder on the full dataset.\n",
    "\n",
    "- Create new model with same encoder but linear layer instead of decoder.\n",
    "\n",
    "- Train naive (nono pretrained) model to classify.\n",
    "\n",
    "- Transfer the encoder weights and fine-tune."
   ]
  },
  {
   "cell_type": "code",
   "execution_count": 117,
   "id": "b4f1c1e0",
   "metadata": {},
   "outputs": [],
   "source": [
    "transform = T.Compose([\n",
    "    T.ToTensor(),\n",
    "    T.Normalize(\n",
    "        mean=[.5,.5,.5],\n",
    "        std=[.5,.5,.5]\n",
    "        )\n",
    "])\n",
    "\n",
    "batch_size = 32\n",
    "\n",
    "trainset = torchvision.datasets.CIFAR10(root='../data',train=True,download=False,transform=transform)\n",
    "testset = torchvision.datasets.CIFAR10(root='../data',train=False,download=False,transform=transform)"
   ]
  },
  {
   "cell_type": "code",
   "execution_count": 118,
   "id": "ae66de8a",
   "metadata": {},
   "outputs": [
    {
     "name": "stdout",
     "output_type": "stream",
     "text": [
      "['airplane' 'automobile' 'bird' 'cat' 'deer' 'dog' 'frog' 'horse' 'ship'\n",
      " 'truck']\n",
      "(50000, 32, 32, 3)\n",
      "(10000, 32, 32, 3)\n"
     ]
    }
   ],
   "source": [
    "print(np.unique(trainset.classes))\n",
    "print(trainset.data.shape)\n",
    "print(testset.data.shape)"
   ]
  },
  {
   "cell_type": "code",
   "execution_count": 119,
   "id": "d1614119",
   "metadata": {},
   "outputs": [
    {
     "data": {
      "text/plain": [
       "3072"
      ]
     },
     "execution_count": 119,
     "metadata": {},
     "output_type": "execute_result"
    }
   ],
   "source": [
    "len(testset.data[1,:,:,:].reshape(32*32*3))"
   ]
  },
  {
   "cell_type": "code",
   "execution_count": 121,
   "id": "0a609704",
   "metadata": {},
   "outputs": [
    {
     "data": {
      "image/png": "[encoded data removed]",
      "text/plain": [
       "<Figure size 640x480 with 1 Axes>"
      ]
     },
     "metadata": {},
     "output_type": "display_data"
    }
   ],
   "source": [
    "pic = testset.data[10,:,:,:]\n",
    "plt.imshow(pic)\n",
    "plt.show()"
   ]
  },
  {
   "cell_type": "code",
   "execution_count": 122,
   "id": "526ab0b1",
   "metadata": {},
   "outputs": [
    {
     "name": "stdout",
     "output_type": "stream",
     "text": [
      "Tensor shape torch.Size([32, 32, 3])\n",
      "Number of items in tensor 3072\n"
     ]
    }
   ],
   "source": [
    "pic_tensor = torch.tensor(pic)\n",
    "print(f'Tensor shape {pic_tensor.shape}')\n",
    "print(f'Number of items in tensor {pic_tensor.shape.numel()}')"
   ]
  },
  {
   "cell_type": "code",
   "execution_count": 123,
   "id": "912b5240",
   "metadata": {},
   "outputs": [],
   "source": [
    "full_train_loader = DataLoader(trainset,batch_size=batch_size,shuffle=True,drop_last=True)\n",
    "full_test_loader  = DataLoader(testset,batch_size=256)"
   ]
  },
  {
   "cell_type": "code",
   "execution_count": 124,
   "id": "27c74ffc",
   "metadata": {},
   "outputs": [],
   "source": [
    "trainsetSmall = torch.utils.data.Subset(trainset,range(2000))\n",
    "testsetSmall  = torch.utils.data.Subset(testset,range(2000))\n",
    "\n",
    "small_train_loader = DataLoader(trainsetSmall,batch_size=batch_size,shuffle=True,drop_last=True)\n",
    "small_test_loader  = DataLoader(testsetSmall,batch_size=batch_size)"
   ]
  },
  {
   "cell_type": "code",
   "execution_count": 128,
   "id": "048c8f53",
   "metadata": {},
   "outputs": [],
   "source": [
    "def CifarAE():\n",
    "    class aenet(nn.Module):\n",
    "        def __init__(self, *args, **kwargs):\n",
    "            super().__init__(*args, **kwargs)\n",
    "\n",
    "            self.encconv1 = nn.Conv2d(3,16,4,padding=1,stride=2)\n",
    "            self.encconv2 = nn.Conv2d(16,32,4,padding=1,stride=2)\n",
    "            self.encconv3 = nn.Conv2d(32,64,4,padding=1,stride=2)\n",
    "\n",
    "            self.deconv1 = nn.ConvTranspose2d(64,32,4,padding=1,stride=2)\n",
    "            self.deconv2 = nn.ConvTranspose2d(32,16,4,padding=1,stride=2)\n",
    "            self.deconv3 = nn.ConvTranspose2d(16,3,4,padding=1,stride=2)\n",
    "\n",
    "        def forward(self,x):\n",
    "            x = F.leaky_relu(self.encconv1(x))\n",
    "            x = F.leaky_relu(self.encconv2(x))\n",
    "            x = F.leaky_relu(self.encconv3(x))\n",
    "\n",
    "            x = F.leaky_relu(self.deconv1(x))\n",
    "            x = F.leaky_relu(self.deconv2(x))\n",
    "            x = F.leaky_relu(self.deconv3(x))\n",
    "\n",
    "            return x\n",
    "\n",
    "    net = aenet()\n",
    "    lossfun = nn.MSELoss()\n",
    "    optimizer = torch.optim.Adam(net.parameters(),lr=.001,weight_decay=1e-5) \n",
    "\n",
    "    return net,lossfun,optimizer       "
   ]
  },
  {
   "cell_type": "code",
   "execution_count": 129,
   "id": "26fc372a",
   "metadata": {},
   "outputs": [
    {
     "data": {
      "text/plain": [
       "aenet(\n",
       "  (encconv1): Conv2d(3, 16, kernel_size=(4, 4), stride=(2, 2), padding=(1, 1))\n",
       "  (encconv2): Conv2d(16, 32, kernel_size=(4, 4), stride=(2, 2), padding=(1, 1))\n",
       "  (encconv3): Conv2d(32, 64, kernel_size=(4, 4), stride=(2, 2), padding=(1, 1))\n",
       "  (deconv1): ConvTranspose2d(64, 32, kernel_size=(4, 4), stride=(2, 2), padding=(1, 1))\n",
       "  (deconv2): ConvTranspose2d(32, 16, kernel_size=(4, 4), stride=(2, 2), padding=(1, 1))\n",
       "  (deconv3): ConvTranspose2d(16, 3, kernel_size=(4, 4), stride=(2, 2), padding=(1, 1))\n",
       ")"
      ]
     },
     "execution_count": 129,
     "metadata": {},
     "output_type": "execute_result"
    }
   ],
   "source": [
    "cifarAe, lossfun, optimizer = CifarAE()\n",
    "cifarAe.to(device)"
   ]
  },
  {
   "cell_type": "code",
   "execution_count": 130,
   "id": "5eb5096b",
   "metadata": {},
   "outputs": [
    {
     "name": "stdout",
     "output_type": "stream",
     "text": [
      "Epoch 1/15 - Train Loss: 0.0579 - Test Loss: 0.0343\n",
      "Epoch 2/15 - Train Loss: 0.0284 - Test Loss: 0.0244\n",
      "Epoch 3/15 - Train Loss: 0.0226 - Test Loss: 0.0217\n",
      "Epoch 4/15 - Train Loss: 0.0204 - Test Loss: 0.0197\n",
      "Epoch 5/15 - Train Loss: 0.0188 - Test Loss: 0.0184\n",
      "Epoch 6/15 - Train Loss: 0.0176 - Test Loss: 0.0188\n",
      "Epoch 7/15 - Train Loss: 0.0166 - Test Loss: 0.0163\n",
      "Epoch 8/15 - Train Loss: 0.0157 - Test Loss: 0.0155\n",
      "Epoch 9/15 - Train Loss: 0.0148 - Test Loss: 0.0147\n",
      "Epoch 10/15 - Train Loss: 0.0140 - Test Loss: 0.0137\n",
      "Epoch 11/15 - Train Loss: 0.0132 - Test Loss: 0.0131\n",
      "Epoch 12/15 - Train Loss: 0.0127 - Test Loss: 0.0130\n",
      "Epoch 13/15 - Train Loss: 0.0125 - Test Loss: 0.0126\n",
      "Epoch 14/15 - Train Loss: 0.0121 - Test Loss: 0.0121\n",
      "Epoch 15/15 - Train Loss: 0.0118 - Test Loss: 0.0120\n"
     ]
    }
   ],
   "source": [
    "train_loss, test_loss, trained_model = trainAE(\n",
    "    model=cifarAe,\n",
    "    optimizer=optimizer,\n",
    "    train_loader=full_train_loader,\n",
    "    test_loader=full_test_loader,\n",
    "    num_epochs=15,\n",
    "    device=device\n",
    ")"
   ]
  },
  {
   "cell_type": "code",
   "execution_count": 140,
   "id": "4ec28465",
   "metadata": {},
   "outputs": [
    {
     "data": {
      "image/png": "[encoded data removed]",
      "text/plain": [
       "<Figure size 640x480 with 1 Axes>"
      ]
     },
     "metadata": {},
     "output_type": "display_data"
    }
   ],
   "source": [
    "plt.plot(train_loss,'s-',label='AE train')\n",
    "plt.plot(test_loss,'o-',label='AE test')\n",
    "plt.xlabel('Epochs')\n",
    "plt.ylabel('Loss MSE')\n",
    "plt.legend()\n",
    "plt.show()"
   ]
  },
  {
   "cell_type": "code",
   "execution_count": 145,
   "id": "064248aa",
   "metadata": {},
   "outputs": [],
   "source": [
    "def CifarClassification():\n",
    "    class aenet(nn.Module):\n",
    "        def __init__(self, *args, **kwargs):\n",
    "            super().__init__(*args, **kwargs)\n",
    "\n",
    "            self.encconv1 = nn.Conv2d(3,16,4,padding=1,stride=2)\n",
    "            self.encconv2 = nn.Conv2d(16,32,4,padding=1,stride=2)\n",
    "            self.encconv3 = nn.Conv2d(32,64,4,padding=1,stride=2)\n",
    "\n",
    "            self.fc1 = nn.Linear(4*4*64,128)\n",
    "            self.fc2 = nn.Linear(128,64)\n",
    "            self.fc3 = nn.Linear(64,10)\n",
    "\n",
    "\n",
    "\n",
    "        def forward(self,x):\n",
    "            x = F.leaky_relu(self.encconv1(x))\n",
    "            x = F.leaky_relu(self.encconv2(x))\n",
    "            x = F.leaky_relu(self.encconv3(x))\n",
    "            \n",
    "            # reshape to linear\n",
    "            nUnits = x.shape.numel() / x.shape[0]\n",
    "            x = x.view(-1,int(nUnits))\n",
    "\n",
    "            # linear layers\n",
    "\n",
    "            x = F.leaky_relu(self.fc1(x))\n",
    "            x = F.leaky_relu(self.fc2(x))\n",
    "            x = F.leaky_relu(self.fc3(x))\n",
    "\n",
    "\n",
    "            return x\n",
    "\n",
    "    net = aenet()\n",
    "    lossfun = nn.CrossEntropyLoss()\n",
    "    optimizer = torch.optim.Adam(net.parameters(),lr=.001,weight_decay=1e-5) \n",
    "\n",
    "    return net,lossfun,optimizer       "
   ]
  },
  {
   "cell_type": "code",
   "execution_count": 142,
   "id": "c839f001",
   "metadata": {},
   "outputs": [
    {
     "name": "stdout",
     "output_type": "stream",
     "text": [
      "Epoch 1/10, Train Loss: 2.2462, Train Acc: 17.69, Test Acc: 25.00\n",
      "Epoch 2/10, Train Loss: 2.0534, Train Acc: 25.60, Test Acc: 34.38\n",
      "Epoch 3/10, Train Loss: 1.8970, Train Acc: 31.35, Test Acc: 46.88\n",
      "Epoch 4/10, Train Loss: 1.7490, Train Acc: 36.09, Test Acc: 43.75\n",
      "Epoch 5/10, Train Loss: 1.6365, Train Acc: 39.62, Test Acc: 34.38\n",
      "Epoch 6/10, Train Loss: 1.5539, Train Acc: 44.30, Test Acc: 50.00\n",
      "Epoch 7/10, Train Loss: 1.4682, Train Acc: 46.77, Test Acc: 46.88\n",
      "Epoch 8/10, Train Loss: 1.3494, Train Acc: 51.66, Test Acc: 40.62\n",
      "Epoch 9/10, Train Loss: 1.2428, Train Acc: 55.95, Test Acc: 43.75\n",
      "Epoch 10/10, Train Loss: 1.1313, Train Acc: 59.17, Test Acc: 31.25\n"
     ]
    }
   ],
   "source": [
    "naiveNet,naivLossFun, naiveOptimizer = CifarClassification()\n",
    "losses, train_accuracy, test_accuracy = trainTheM0del(\n",
    "        isClassification=True,\n",
    "        optimizer = naiveOptimizer,\n",
    "        doBN=False,\n",
    "        model=naiveNet,\n",
    "        train_loader=small_train_loader,\n",
    "        test_loader=small_test_loader,\n",
    "        num_epochs=10, \n",
    "        loss_function= naivLossFun,\n",
    "        device = device\n",
    "        )"
   ]
  },
  {
   "cell_type": "code",
   "execution_count": 152,
   "id": "020bc302",
   "metadata": {},
   "outputs": [],
   "source": [
    "pretrainedNet,pretrainedLossFun, pretrainedOptimizer = CifarClassification()\n",
    "\n",
    "for target,source in zip(pretrainedNet.named_parameters(),naiveNet.named_parameters()):\n",
    "    if('enc' in target[0]):\n",
    "        target[1].data = copy.deepcopy(source[1].data)\n",
    "        target[1].requires_grad = False "
   ]
  },
  {
   "cell_type": "code",
   "execution_count": 153,
   "id": "1d53e10c",
   "metadata": {},
   "outputs": [
    {
     "data": {
      "text/plain": [
       "aenet(\n",
       "  (encconv1): Conv2d(3, 16, kernel_size=(4, 4), stride=(2, 2), padding=(1, 1))\n",
       "  (encconv2): Conv2d(16, 32, kernel_size=(4, 4), stride=(2, 2), padding=(1, 1))\n",
       "  (encconv3): Conv2d(32, 64, kernel_size=(4, 4), stride=(2, 2), padding=(1, 1))\n",
       "  (fc1): Linear(in_features=1024, out_features=128, bias=True)\n",
       "  (fc2): Linear(in_features=128, out_features=64, bias=True)\n",
       "  (fc3): Linear(in_features=64, out_features=10, bias=True)\n",
       ")"
      ]
     },
     "execution_count": 153,
     "metadata": {},
     "output_type": "execute_result"
    }
   ],
   "source": [
    "pretrainedNet.to(device)"
   ]
  },
  {
   "cell_type": "code",
   "execution_count": 154,
   "id": "199576f5",
   "metadata": {},
   "outputs": [
    {
     "data": {
      "text/plain": [
       "tensor([[[0., 0., 0., 0.],\n",
       "         [0., 0., 0., 0.],\n",
       "         [0., 0., 0., 0.],\n",
       "         [0., 0., 0., 0.]],\n",
       "\n",
       "        [[0., 0., 0., 0.],\n",
       "         [0., 0., 0., 0.],\n",
       "         [0., 0., 0., 0.],\n",
       "         [0., 0., 0., 0.]],\n",
       "\n",
       "        [[0., 0., 0., 0.],\n",
       "         [0., 0., 0., 0.],\n",
       "         [0., 0., 0., 0.],\n",
       "         [0., 0., 0., 0.]]], grad_fn=<SubBackward0>)"
      ]
     },
     "execution_count": 154,
     "metadata": {},
     "output_type": "execute_result"
    }
   ],
   "source": [
    "# double check the weights \n",
    "pretrainedNet.cpu().encconv1.weight[10] - naiveNet.cpu().encconv1.weight[10] "
   ]
  },
  {
   "cell_type": "code",
   "execution_count": 156,
   "id": "d8061485",
   "metadata": {},
   "outputs": [
    {
     "name": "stdout",
     "output_type": "stream",
     "text": [
      "Epoch 1/30, Train Loss: 0.5248, Train Acc: 83.27, Test Acc: 37.50\n",
      "Epoch 2/30, Train Loss: 0.4585, Train Acc: 86.69, Test Acc: 31.25\n",
      "Epoch 3/30, Train Loss: 0.3822, Train Acc: 89.42, Test Acc: 37.50\n",
      "Epoch 4/30, Train Loss: 0.3270, Train Acc: 90.32, Test Acc: 34.38\n",
      "Epoch 5/30, Train Loss: 0.2684, Train Acc: 92.94, Test Acc: 34.38\n",
      "Epoch 6/30, Train Loss: 0.2277, Train Acc: 94.76, Test Acc: 37.50\n",
      "Epoch 7/30, Train Loss: 0.1964, Train Acc: 95.36, Test Acc: 37.50\n",
      "Epoch 8/30, Train Loss: 0.1820, Train Acc: 95.06, Test Acc: 31.25\n",
      "Epoch 9/30, Train Loss: 0.1482, Train Acc: 96.72, Test Acc: 37.50\n",
      "Epoch 10/30, Train Loss: 0.1242, Train Acc: 97.43, Test Acc: 31.25\n",
      "Epoch 11/30, Train Loss: 0.1087, Train Acc: 97.73, Test Acc: 37.50\n",
      "Epoch 12/30, Train Loss: 0.1119, Train Acc: 97.63, Test Acc: 34.38\n",
      "Epoch 13/30, Train Loss: 0.0803, Train Acc: 98.39, Test Acc: 31.25\n",
      "Epoch 14/30, Train Loss: 0.0631, Train Acc: 98.74, Test Acc: 31.25\n",
      "Epoch 15/30, Train Loss: 0.0548, Train Acc: 98.79, Test Acc: 34.38\n",
      "Epoch 16/30, Train Loss: 0.0491, Train Acc: 98.99, Test Acc: 34.38\n",
      "Epoch 17/30, Train Loss: 0.0485, Train Acc: 99.04, Test Acc: 40.62\n",
      "Epoch 18/30, Train Loss: 0.0425, Train Acc: 98.94, Test Acc: 34.38\n",
      "Epoch 19/30, Train Loss: 0.0345, Train Acc: 99.29, Test Acc: 37.50\n",
      "Epoch 20/30, Train Loss: 0.0324, Train Acc: 99.19, Test Acc: 37.50\n",
      "Epoch 21/30, Train Loss: 0.0280, Train Acc: 99.34, Test Acc: 37.50\n",
      "Epoch 22/30, Train Loss: 0.0254, Train Acc: 99.50, Test Acc: 37.50\n",
      "Epoch 23/30, Train Loss: 0.0221, Train Acc: 99.50, Test Acc: 28.12\n",
      "Epoch 24/30, Train Loss: 0.0224, Train Acc: 99.40, Test Acc: 37.50\n",
      "Epoch 25/30, Train Loss: 0.0194, Train Acc: 99.50, Test Acc: 40.62\n",
      "Epoch 26/30, Train Loss: 0.0186, Train Acc: 99.50, Test Acc: 40.62\n",
      "Epoch 27/30, Train Loss: 0.0179, Train Acc: 99.50, Test Acc: 34.38\n",
      "Epoch 28/30, Train Loss: 0.0166, Train Acc: 99.50, Test Acc: 37.50\n",
      "Epoch 29/30, Train Loss: 0.0160, Train Acc: 99.50, Test Acc: 37.50\n",
      "Epoch 30/30, Train Loss: 0.0158, Train Acc: 99.50, Test Acc: 40.62\n"
     ]
    }
   ],
   "source": [
    "losses, train_accuracy, test_accuracy = trainTheM0del(\n",
    "        isClassification=True,\n",
    "        optimizer = pretrainedOptimizer,\n",
    "        doBN=False,\n",
    "        model=pretrainedNet,\n",
    "        train_loader=small_train_loader,\n",
    "        test_loader=small_test_loader,\n",
    "        num_epochs=30, \n",
    "        loss_function= pretrainedLossFun,\n",
    "        device = device\n",
    "        )"
   ]
  }
 ],
 "metadata": {
  "kernelspec": {
   "display_name": "ia",
   "language": "python",
   "name": "python3"
  },
  "language_info": {
   "codemirror_mode": {
    "name": "ipython",
    "version": 3
   },
   "file_extension": ".py",
   "mimetype": "text/x-python",
   "name": "python",
   "nbconvert_exporter": "python",
   "pygments_lexer": "ipython3",
   "version": "3.13.5"
  }
 },
 "nbformat": 4,
 "nbformat_minor": 5
}
